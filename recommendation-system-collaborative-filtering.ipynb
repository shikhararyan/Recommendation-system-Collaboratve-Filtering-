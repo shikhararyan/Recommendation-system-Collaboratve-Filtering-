{
 "cells": [
  {
   "cell_type": "code",
   "execution_count": 1,
   "id": "1a87466c",
   "metadata": {
    "_cell_guid": "b1076dfc-b9ad-4769-8c92-a6c4dae69d19",
    "_uuid": "8f2839f25d086af736a60e9eeb907d3b93b6e0e5",
    "execution": {
     "iopub.execute_input": "2024-04-05T01:07:10.742941Z",
     "iopub.status.busy": "2024-04-05T01:07:10.742380Z",
     "iopub.status.idle": "2024-04-05T01:07:11.708863Z",
     "shell.execute_reply": "2024-04-05T01:07:11.707479Z"
    },
    "papermill": {
     "duration": 0.983997,
     "end_time": "2024-04-05T01:07:11.711394",
     "exception": false,
     "start_time": "2024-04-05T01:07:10.727397",
     "status": "completed"
    },
    "tags": []
   },
   "outputs": [
    {
     "name": "stdout",
     "output_type": "stream",
     "text": [
      "/kaggle/input/book-recommendation-dataset/Ratings.csv\n",
      "/kaggle/input/book-recommendation-dataset/Users.csv\n",
      "/kaggle/input/book-recommendation-dataset/classicRec.png\n",
      "/kaggle/input/book-recommendation-dataset/Books.csv\n",
      "/kaggle/input/book-recommendation-dataset/DeepRec.png\n",
      "/kaggle/input/book-recommendation-dataset/recsys_taxonomy2.png\n"
     ]
    }
   ],
   "source": [
    "# This Python 3 environment comes with many helpful analytics libraries installed\n",
    "# It is defined by the kaggle/python Docker image: https://github.com/kaggle/docker-python\n",
    "# For example, here's several helpful packages to load\n",
    "\n",
    "import numpy as np # linear algebra\n",
    "import pandas as pd # data processing, CSV file I/O (e.g. pd.read_csv)\n",
    "\n",
    "# Input data files are available in the read-only \"../input/\" directory\n",
    "# For example, running this (by clicking run or pressing Shift+Enter) will list all files under the input directory\n",
    "\n",
    "import os\n",
    "for dirname, _, filenames in os.walk('/kaggle/input'):\n",
    "    for filename in filenames:\n",
    "        print(os.path.join(dirname, filename))\n",
    "\n",
    "# You can write up to 20GB to the current directory (/kaggle/working/) that gets preserved as output when you create a version using \"Save & Run All\" \n",
    "# You can also write temporary files to /kaggle/temp/, but they won't be saved outside of the current session"
   ]
  },
  {
   "cell_type": "code",
   "execution_count": 2,
   "id": "b34e2283",
   "metadata": {
    "execution": {
     "iopub.execute_input": "2024-04-05T01:07:11.735979Z",
     "iopub.status.busy": "2024-04-05T01:07:11.735453Z",
     "iopub.status.idle": "2024-04-05T01:07:11.740026Z",
     "shell.execute_reply": "2024-04-05T01:07:11.739024Z"
    },
    "papermill": {
     "duration": 0.018823,
     "end_time": "2024-04-05T01:07:11.742128",
     "exception": false,
     "start_time": "2024-04-05T01:07:11.723305",
     "status": "completed"
    },
    "tags": []
   },
   "outputs": [],
   "source": [
    "import numpy as np\n",
    "import pandas as pd"
   ]
  },
  {
   "cell_type": "code",
   "execution_count": 3,
   "id": "f563e4b5",
   "metadata": {
    "execution": {
     "iopub.execute_input": "2024-04-05T01:07:11.766523Z",
     "iopub.status.busy": "2024-04-05T01:07:11.765373Z",
     "iopub.status.idle": "2024-04-05T01:07:15.921864Z",
     "shell.execute_reply": "2024-04-05T01:07:15.920601Z"
    },
    "papermill": {
     "duration": 4.171861,
     "end_time": "2024-04-05T01:07:15.925011",
     "exception": false,
     "start_time": "2024-04-05T01:07:11.753150",
     "status": "completed"
    },
    "tags": []
   },
   "outputs": [
    {
     "name": "stderr",
     "output_type": "stream",
     "text": [
      "/tmp/ipykernel_18/2910231406.py:1: DtypeWarning: Columns (3) have mixed types. Specify dtype option on import or set low_memory=False.\n",
      "  books = pd.read_csv('/kaggle/input/book-recommendation-dataset/Books.csv')\n"
     ]
    }
   ],
   "source": [
    "books = pd.read_csv('/kaggle/input/book-recommendation-dataset/Books.csv')\n",
    "users = pd.read_csv('/kaggle/input/book-recommendation-dataset/Users.csv')\n",
    "ratings = pd.read_csv('/kaggle/input/book-recommendation-dataset/Ratings.csv')"
   ]
  },
  {
   "cell_type": "code",
   "execution_count": 4,
   "id": "add0423d",
   "metadata": {
    "execution": {
     "iopub.execute_input": "2024-04-05T01:07:15.951116Z",
     "iopub.status.busy": "2024-04-05T01:07:15.950647Z",
     "iopub.status.idle": "2024-04-05T01:07:15.971752Z",
     "shell.execute_reply": "2024-04-05T01:07:15.970806Z"
    },
    "papermill": {
     "duration": 0.036931,
     "end_time": "2024-04-05T01:07:15.974365",
     "exception": false,
     "start_time": "2024-04-05T01:07:15.937434",
     "status": "completed"
    },
    "tags": []
   },
   "outputs": [
    {
     "data": {
      "text/html": [
       "<div>\n",
       "<style scoped>\n",
       "    .dataframe tbody tr th:only-of-type {\n",
       "        vertical-align: middle;\n",
       "    }\n",
       "\n",
       "    .dataframe tbody tr th {\n",
       "        vertical-align: top;\n",
       "    }\n",
       "\n",
       "    .dataframe thead th {\n",
       "        text-align: right;\n",
       "    }\n",
       "</style>\n",
       "<table border=\"1\" class=\"dataframe\">\n",
       "  <thead>\n",
       "    <tr style=\"text-align: right;\">\n",
       "      <th></th>\n",
       "      <th>User-ID</th>\n",
       "      <th>Location</th>\n",
       "      <th>Age</th>\n",
       "    </tr>\n",
       "  </thead>\n",
       "  <tbody>\n",
       "    <tr>\n",
       "      <th>0</th>\n",
       "      <td>1</td>\n",
       "      <td>nyc, new york, usa</td>\n",
       "      <td>NaN</td>\n",
       "    </tr>\n",
       "    <tr>\n",
       "      <th>1</th>\n",
       "      <td>2</td>\n",
       "      <td>stockton, california, usa</td>\n",
       "      <td>18.0</td>\n",
       "    </tr>\n",
       "    <tr>\n",
       "      <th>2</th>\n",
       "      <td>3</td>\n",
       "      <td>moscow, yukon territory, russia</td>\n",
       "      <td>NaN</td>\n",
       "    </tr>\n",
       "    <tr>\n",
       "      <th>3</th>\n",
       "      <td>4</td>\n",
       "      <td>porto, v.n.gaia, portugal</td>\n",
       "      <td>17.0</td>\n",
       "    </tr>\n",
       "    <tr>\n",
       "      <th>4</th>\n",
       "      <td>5</td>\n",
       "      <td>farnborough, hants, united kingdom</td>\n",
       "      <td>NaN</td>\n",
       "    </tr>\n",
       "  </tbody>\n",
       "</table>\n",
       "</div>"
      ],
      "text/plain": [
       "   User-ID                            Location   Age\n",
       "0        1                  nyc, new york, usa   NaN\n",
       "1        2           stockton, california, usa  18.0\n",
       "2        3     moscow, yukon territory, russia   NaN\n",
       "3        4           porto, v.n.gaia, portugal  17.0\n",
       "4        5  farnborough, hants, united kingdom   NaN"
      ]
     },
     "execution_count": 4,
     "metadata": {},
     "output_type": "execute_result"
    }
   ],
   "source": [
    "users.head()"
   ]
  },
  {
   "cell_type": "code",
   "execution_count": 5,
   "id": "17545c64",
   "metadata": {
    "execution": {
     "iopub.execute_input": "2024-04-05T01:07:15.999371Z",
     "iopub.status.busy": "2024-04-05T01:07:15.998681Z",
     "iopub.status.idle": "2024-04-05T01:07:16.010015Z",
     "shell.execute_reply": "2024-04-05T01:07:16.008653Z"
    },
    "papermill": {
     "duration": 0.027292,
     "end_time": "2024-04-05T01:07:16.013067",
     "exception": false,
     "start_time": "2024-04-05T01:07:15.985775",
     "status": "completed"
    },
    "tags": []
   },
   "outputs": [
    {
     "data": {
      "text/html": [
       "<div>\n",
       "<style scoped>\n",
       "    .dataframe tbody tr th:only-of-type {\n",
       "        vertical-align: middle;\n",
       "    }\n",
       "\n",
       "    .dataframe tbody tr th {\n",
       "        vertical-align: top;\n",
       "    }\n",
       "\n",
       "    .dataframe thead th {\n",
       "        text-align: right;\n",
       "    }\n",
       "</style>\n",
       "<table border=\"1\" class=\"dataframe\">\n",
       "  <thead>\n",
       "    <tr style=\"text-align: right;\">\n",
       "      <th></th>\n",
       "      <th>User-ID</th>\n",
       "      <th>ISBN</th>\n",
       "      <th>Book-Rating</th>\n",
       "    </tr>\n",
       "  </thead>\n",
       "  <tbody>\n",
       "    <tr>\n",
       "      <th>0</th>\n",
       "      <td>276725</td>\n",
       "      <td>034545104X</td>\n",
       "      <td>0</td>\n",
       "    </tr>\n",
       "    <tr>\n",
       "      <th>1</th>\n",
       "      <td>276726</td>\n",
       "      <td>0155061224</td>\n",
       "      <td>5</td>\n",
       "    </tr>\n",
       "    <tr>\n",
       "      <th>2</th>\n",
       "      <td>276727</td>\n",
       "      <td>0446520802</td>\n",
       "      <td>0</td>\n",
       "    </tr>\n",
       "    <tr>\n",
       "      <th>3</th>\n",
       "      <td>276729</td>\n",
       "      <td>052165615X</td>\n",
       "      <td>3</td>\n",
       "    </tr>\n",
       "    <tr>\n",
       "      <th>4</th>\n",
       "      <td>276729</td>\n",
       "      <td>0521795028</td>\n",
       "      <td>6</td>\n",
       "    </tr>\n",
       "  </tbody>\n",
       "</table>\n",
       "</div>"
      ],
      "text/plain": [
       "   User-ID        ISBN  Book-Rating\n",
       "0   276725  034545104X            0\n",
       "1   276726  0155061224            5\n",
       "2   276727  0446520802            0\n",
       "3   276729  052165615X            3\n",
       "4   276729  0521795028            6"
      ]
     },
     "execution_count": 5,
     "metadata": {},
     "output_type": "execute_result"
    }
   ],
   "source": [
    "ratings.head()"
   ]
  },
  {
   "cell_type": "code",
   "execution_count": 6,
   "id": "c90c44c8",
   "metadata": {
    "execution": {
     "iopub.execute_input": "2024-04-05T01:07:16.038278Z",
     "iopub.status.busy": "2024-04-05T01:07:16.037853Z",
     "iopub.status.idle": "2024-04-05T01:07:16.052526Z",
     "shell.execute_reply": "2024-04-05T01:07:16.051245Z"
    },
    "papermill": {
     "duration": 0.031038,
     "end_time": "2024-04-05T01:07:16.055560",
     "exception": false,
     "start_time": "2024-04-05T01:07:16.024522",
     "status": "completed"
    },
    "tags": []
   },
   "outputs": [
    {
     "data": {
      "text/html": [
       "<div>\n",
       "<style scoped>\n",
       "    .dataframe tbody tr th:only-of-type {\n",
       "        vertical-align: middle;\n",
       "    }\n",
       "\n",
       "    .dataframe tbody tr th {\n",
       "        vertical-align: top;\n",
       "    }\n",
       "\n",
       "    .dataframe thead th {\n",
       "        text-align: right;\n",
       "    }\n",
       "</style>\n",
       "<table border=\"1\" class=\"dataframe\">\n",
       "  <thead>\n",
       "    <tr style=\"text-align: right;\">\n",
       "      <th></th>\n",
       "      <th>ISBN</th>\n",
       "      <th>Book-Title</th>\n",
       "      <th>Book-Author</th>\n",
       "      <th>Year-Of-Publication</th>\n",
       "      <th>Publisher</th>\n",
       "      <th>Image-URL-S</th>\n",
       "      <th>Image-URL-M</th>\n",
       "      <th>Image-URL-L</th>\n",
       "    </tr>\n",
       "  </thead>\n",
       "  <tbody>\n",
       "    <tr>\n",
       "      <th>0</th>\n",
       "      <td>0195153448</td>\n",
       "      <td>Classical Mythology</td>\n",
       "      <td>Mark P. O. Morford</td>\n",
       "      <td>2002</td>\n",
       "      <td>Oxford University Press</td>\n",
       "      <td>http://images.amazon.com/images/P/0195153448.0...</td>\n",
       "      <td>http://images.amazon.com/images/P/0195153448.0...</td>\n",
       "      <td>http://images.amazon.com/images/P/0195153448.0...</td>\n",
       "    </tr>\n",
       "    <tr>\n",
       "      <th>1</th>\n",
       "      <td>0002005018</td>\n",
       "      <td>Clara Callan</td>\n",
       "      <td>Richard Bruce Wright</td>\n",
       "      <td>2001</td>\n",
       "      <td>HarperFlamingo Canada</td>\n",
       "      <td>http://images.amazon.com/images/P/0002005018.0...</td>\n",
       "      <td>http://images.amazon.com/images/P/0002005018.0...</td>\n",
       "      <td>http://images.amazon.com/images/P/0002005018.0...</td>\n",
       "    </tr>\n",
       "    <tr>\n",
       "      <th>2</th>\n",
       "      <td>0060973129</td>\n",
       "      <td>Decision in Normandy</td>\n",
       "      <td>Carlo D'Este</td>\n",
       "      <td>1991</td>\n",
       "      <td>HarperPerennial</td>\n",
       "      <td>http://images.amazon.com/images/P/0060973129.0...</td>\n",
       "      <td>http://images.amazon.com/images/P/0060973129.0...</td>\n",
       "      <td>http://images.amazon.com/images/P/0060973129.0...</td>\n",
       "    </tr>\n",
       "    <tr>\n",
       "      <th>3</th>\n",
       "      <td>0374157065</td>\n",
       "      <td>Flu: The Story of the Great Influenza Pandemic...</td>\n",
       "      <td>Gina Bari Kolata</td>\n",
       "      <td>1999</td>\n",
       "      <td>Farrar Straus Giroux</td>\n",
       "      <td>http://images.amazon.com/images/P/0374157065.0...</td>\n",
       "      <td>http://images.amazon.com/images/P/0374157065.0...</td>\n",
       "      <td>http://images.amazon.com/images/P/0374157065.0...</td>\n",
       "    </tr>\n",
       "    <tr>\n",
       "      <th>4</th>\n",
       "      <td>0393045218</td>\n",
       "      <td>The Mummies of Urumchi</td>\n",
       "      <td>E. J. W. Barber</td>\n",
       "      <td>1999</td>\n",
       "      <td>W. W. Norton &amp;amp; Company</td>\n",
       "      <td>http://images.amazon.com/images/P/0393045218.0...</td>\n",
       "      <td>http://images.amazon.com/images/P/0393045218.0...</td>\n",
       "      <td>http://images.amazon.com/images/P/0393045218.0...</td>\n",
       "    </tr>\n",
       "  </tbody>\n",
       "</table>\n",
       "</div>"
      ],
      "text/plain": [
       "         ISBN                                         Book-Title  \\\n",
       "0  0195153448                                Classical Mythology   \n",
       "1  0002005018                                       Clara Callan   \n",
       "2  0060973129                               Decision in Normandy   \n",
       "3  0374157065  Flu: The Story of the Great Influenza Pandemic...   \n",
       "4  0393045218                             The Mummies of Urumchi   \n",
       "\n",
       "            Book-Author Year-Of-Publication                   Publisher  \\\n",
       "0    Mark P. O. Morford                2002     Oxford University Press   \n",
       "1  Richard Bruce Wright                2001       HarperFlamingo Canada   \n",
       "2          Carlo D'Este                1991             HarperPerennial   \n",
       "3      Gina Bari Kolata                1999        Farrar Straus Giroux   \n",
       "4       E. J. W. Barber                1999  W. W. Norton &amp; Company   \n",
       "\n",
       "                                         Image-URL-S  \\\n",
       "0  http://images.amazon.com/images/P/0195153448.0...   \n",
       "1  http://images.amazon.com/images/P/0002005018.0...   \n",
       "2  http://images.amazon.com/images/P/0060973129.0...   \n",
       "3  http://images.amazon.com/images/P/0374157065.0...   \n",
       "4  http://images.amazon.com/images/P/0393045218.0...   \n",
       "\n",
       "                                         Image-URL-M  \\\n",
       "0  http://images.amazon.com/images/P/0195153448.0...   \n",
       "1  http://images.amazon.com/images/P/0002005018.0...   \n",
       "2  http://images.amazon.com/images/P/0060973129.0...   \n",
       "3  http://images.amazon.com/images/P/0374157065.0...   \n",
       "4  http://images.amazon.com/images/P/0393045218.0...   \n",
       "\n",
       "                                         Image-URL-L  \n",
       "0  http://images.amazon.com/images/P/0195153448.0...  \n",
       "1  http://images.amazon.com/images/P/0002005018.0...  \n",
       "2  http://images.amazon.com/images/P/0060973129.0...  \n",
       "3  http://images.amazon.com/images/P/0374157065.0...  \n",
       "4  http://images.amazon.com/images/P/0393045218.0...  "
      ]
     },
     "execution_count": 6,
     "metadata": {},
     "output_type": "execute_result"
    }
   ],
   "source": [
    "books.head()"
   ]
  },
  {
   "cell_type": "markdown",
   "id": "7021dd3c",
   "metadata": {
    "papermill": {
     "duration": 0.011587,
     "end_time": "2024-04-05T01:07:16.078993",
     "exception": false,
     "start_time": "2024-04-05T01:07:16.067406",
     "status": "completed"
    },
    "tags": []
   },
   "source": [
    "# Checking for Null Values"
   ]
  },
  {
   "cell_type": "code",
   "execution_count": 7,
   "id": "5369e16f",
   "metadata": {
    "execution": {
     "iopub.execute_input": "2024-04-05T01:07:16.105207Z",
     "iopub.status.busy": "2024-04-05T01:07:16.104809Z",
     "iopub.status.idle": "2024-04-05T01:07:16.148943Z",
     "shell.execute_reply": "2024-04-05T01:07:16.147801Z"
    },
    "papermill": {
     "duration": 0.059465,
     "end_time": "2024-04-05T01:07:16.151272",
     "exception": false,
     "start_time": "2024-04-05T01:07:16.091807",
     "status": "completed"
    },
    "tags": []
   },
   "outputs": [
    {
     "data": {
      "text/plain": [
       "User-ID          0\n",
       "Location         0\n",
       "Age         110762\n",
       "dtype: int64"
      ]
     },
     "execution_count": 7,
     "metadata": {},
     "output_type": "execute_result"
    }
   ],
   "source": [
    "users.isnull().sum()"
   ]
  },
  {
   "cell_type": "markdown",
   "id": "33716c87",
   "metadata": {
    "papermill": {
     "duration": 0.01188,
     "end_time": "2024-04-05T01:07:16.174894",
     "exception": false,
     "start_time": "2024-04-05T01:07:16.163014",
     "status": "completed"
    },
    "tags": []
   },
   "source": [
    "We won't be needing age, as there aren't enough Variables, and most of the Values are missing\n"
   ]
  },
  {
   "cell_type": "code",
   "execution_count": 8,
   "id": "4c112d4b",
   "metadata": {
    "execution": {
     "iopub.execute_input": "2024-04-05T01:07:16.200612Z",
     "iopub.status.busy": "2024-04-05T01:07:16.200193Z",
     "iopub.status.idle": "2024-04-05T01:07:16.351134Z",
     "shell.execute_reply": "2024-04-05T01:07:16.349983Z"
    },
    "papermill": {
     "duration": 0.167033,
     "end_time": "2024-04-05T01:07:16.353786",
     "exception": false,
     "start_time": "2024-04-05T01:07:16.186753",
     "status": "completed"
    },
    "tags": []
   },
   "outputs": [
    {
     "data": {
      "text/plain": [
       "User-ID        0\n",
       "ISBN           0\n",
       "Book-Rating    0\n",
       "dtype: int64"
      ]
     },
     "execution_count": 8,
     "metadata": {},
     "output_type": "execute_result"
    }
   ],
   "source": [
    "ratings.isnull().sum()"
   ]
  },
  {
   "cell_type": "code",
   "execution_count": 9,
   "id": "5354930a",
   "metadata": {
    "execution": {
     "iopub.execute_input": "2024-04-05T01:07:16.379693Z",
     "iopub.status.busy": "2024-04-05T01:07:16.379306Z",
     "iopub.status.idle": "2024-04-05T01:07:16.624527Z",
     "shell.execute_reply": "2024-04-05T01:07:16.623408Z"
    },
    "papermill": {
     "duration": 0.261007,
     "end_time": "2024-04-05T01:07:16.626937",
     "exception": false,
     "start_time": "2024-04-05T01:07:16.365930",
     "status": "completed"
    },
    "tags": []
   },
   "outputs": [
    {
     "data": {
      "text/plain": [
       "ISBN                   0\n",
       "Book-Title             0\n",
       "Book-Author            2\n",
       "Year-Of-Publication    0\n",
       "Publisher              2\n",
       "Image-URL-S            0\n",
       "Image-URL-M            0\n",
       "Image-URL-L            3\n",
       "dtype: int64"
      ]
     },
     "execution_count": 9,
     "metadata": {},
     "output_type": "execute_result"
    }
   ],
   "source": [
    "books.isnull().sum()"
   ]
  },
  {
   "cell_type": "markdown",
   "id": "4180f080",
   "metadata": {
    "papermill": {
     "duration": 0.011899,
     "end_time": "2024-04-05T01:07:16.651206",
     "exception": false,
     "start_time": "2024-04-05T01:07:16.639307",
     "status": "completed"
    },
    "tags": []
   },
   "source": [
    "# Checking for Duplicates"
   ]
  },
  {
   "cell_type": "code",
   "execution_count": 10,
   "id": "6c21b126",
   "metadata": {
    "execution": {
     "iopub.execute_input": "2024-04-05T01:07:16.677991Z",
     "iopub.status.busy": "2024-04-05T01:07:16.677234Z",
     "iopub.status.idle": "2024-04-05T01:07:16.771550Z",
     "shell.execute_reply": "2024-04-05T01:07:16.770392Z"
    },
    "papermill": {
     "duration": 0.110979,
     "end_time": "2024-04-05T01:07:16.774477",
     "exception": false,
     "start_time": "2024-04-05T01:07:16.663498",
     "status": "completed"
    },
    "tags": []
   },
   "outputs": [
    {
     "data": {
      "text/plain": [
       "0"
      ]
     },
     "execution_count": 10,
     "metadata": {},
     "output_type": "execute_result"
    }
   ],
   "source": [
    "users.duplicated().sum()"
   ]
  },
  {
   "cell_type": "code",
   "execution_count": 11,
   "id": "afc2e6f1",
   "metadata": {
    "execution": {
     "iopub.execute_input": "2024-04-05T01:07:16.801761Z",
     "iopub.status.busy": "2024-04-05T01:07:16.801338Z",
     "iopub.status.idle": "2024-04-05T01:07:17.166616Z",
     "shell.execute_reply": "2024-04-05T01:07:17.165516Z"
    },
    "papermill": {
     "duration": 0.382216,
     "end_time": "2024-04-05T01:07:17.169151",
     "exception": false,
     "start_time": "2024-04-05T01:07:16.786935",
     "status": "completed"
    },
    "tags": []
   },
   "outputs": [
    {
     "data": {
      "text/plain": [
       "0"
      ]
     },
     "execution_count": 11,
     "metadata": {},
     "output_type": "execute_result"
    }
   ],
   "source": [
    "ratings.duplicated().sum()"
   ]
  },
  {
   "cell_type": "code",
   "execution_count": 12,
   "id": "23b6481d",
   "metadata": {
    "execution": {
     "iopub.execute_input": "2024-04-05T01:07:17.196025Z",
     "iopub.status.busy": "2024-04-05T01:07:17.195614Z",
     "iopub.status.idle": "2024-04-05T01:07:17.948970Z",
     "shell.execute_reply": "2024-04-05T01:07:17.948022Z"
    },
    "papermill": {
     "duration": 0.770375,
     "end_time": "2024-04-05T01:07:17.951817",
     "exception": false,
     "start_time": "2024-04-05T01:07:17.181442",
     "status": "completed"
    },
    "tags": []
   },
   "outputs": [
    {
     "data": {
      "text/plain": [
       "0"
      ]
     },
     "execution_count": 12,
     "metadata": {},
     "output_type": "execute_result"
    }
   ],
   "source": [
    "books.duplicated().sum()"
   ]
  },
  {
   "cell_type": "markdown",
   "id": "0cd6a78b",
   "metadata": {
    "papermill": {
     "duration": 0.012249,
     "end_time": "2024-04-05T01:07:17.977131",
     "exception": false,
     "start_time": "2024-04-05T01:07:17.964882",
     "status": "completed"
    },
    "tags": []
   },
   "source": [
    "# Let's Combine the Ratings and Books datasets, so that we can later on analyse the relation between the books and ratings with users"
   ]
  },
  {
   "cell_type": "code",
   "execution_count": 13,
   "id": "326bb269",
   "metadata": {
    "execution": {
     "iopub.execute_input": "2024-04-05T01:07:18.004143Z",
     "iopub.status.busy": "2024-04-05T01:07:18.003764Z",
     "iopub.status.idle": "2024-04-05T01:07:19.309904Z",
     "shell.execute_reply": "2024-04-05T01:07:19.308675Z"
    },
    "papermill": {
     "duration": 1.323244,
     "end_time": "2024-04-05T01:07:19.313099",
     "exception": false,
     "start_time": "2024-04-05T01:07:17.989855",
     "status": "completed"
    },
    "tags": []
   },
   "outputs": [],
   "source": [
    "ratings_with_name = ratings.merge(books,on='ISBN')"
   ]
  },
  {
   "cell_type": "markdown",
   "id": "6a61b6de",
   "metadata": {
    "papermill": {
     "duration": 0.012254,
     "end_time": "2024-04-05T01:07:19.338060",
     "exception": false,
     "start_time": "2024-04-05T01:07:19.325806",
     "status": "completed"
    },
    "tags": []
   },
   "source": [
    "Collaborative filtering based Recommendation System"
   ]
  },
  {
   "cell_type": "markdown",
   "id": "c98038c4",
   "metadata": {
    "papermill": {
     "duration": 0.01273,
     "end_time": "2024-04-05T01:07:19.363402",
     "exception": false,
     "start_time": "2024-04-05T01:07:19.350672",
     "status": "completed"
    },
    "tags": []
   },
   "source": [
    "Filtering out those users, who have Given ratings to books more than 150 Times"
   ]
  },
  {
   "cell_type": "code",
   "execution_count": 14,
   "id": "11592d9c",
   "metadata": {
    "execution": {
     "iopub.execute_input": "2024-04-05T01:07:19.390427Z",
     "iopub.status.busy": "2024-04-05T01:07:19.389796Z",
     "iopub.status.idle": "2024-04-05T01:07:20.539393Z",
     "shell.execute_reply": "2024-04-05T01:07:20.538245Z"
    },
    "papermill": {
     "duration": 1.16624,
     "end_time": "2024-04-05T01:07:20.542233",
     "exception": false,
     "start_time": "2024-04-05T01:07:19.375993",
     "status": "completed"
    },
    "tags": []
   },
   "outputs": [],
   "source": [
    "x = ratings_with_name.groupby('User-ID').count()['Book-Rating'] > 150\n",
    "imp_users = x[x].index"
   ]
  },
  {
   "cell_type": "code",
   "execution_count": 15,
   "id": "83ded7d3",
   "metadata": {
    "execution": {
     "iopub.execute_input": "2024-04-05T01:07:20.569735Z",
     "iopub.status.busy": "2024-04-05T01:07:20.568945Z",
     "iopub.status.idle": "2024-04-05T01:07:20.684121Z",
     "shell.execute_reply": "2024-04-05T01:07:20.683007Z"
    },
    "papermill": {
     "duration": 0.132082,
     "end_time": "2024-04-05T01:07:20.687117",
     "exception": false,
     "start_time": "2024-04-05T01:07:20.555035",
     "status": "completed"
    },
    "tags": []
   },
   "outputs": [],
   "source": [
    "filtered_rating = ratings_with_name[ratings_with_name['User-ID'].isin(imp_users)]"
   ]
  },
  {
   "cell_type": "code",
   "execution_count": 16,
   "id": "76ded378",
   "metadata": {
    "execution": {
     "iopub.execute_input": "2024-04-05T01:07:20.714535Z",
     "iopub.status.busy": "2024-04-05T01:07:20.714164Z",
     "iopub.status.idle": "2024-04-05T01:07:21.857216Z",
     "shell.execute_reply": "2024-04-05T01:07:21.856233Z"
    },
    "papermill": {
     "duration": 1.159944,
     "end_time": "2024-04-05T01:07:21.859952",
     "exception": false,
     "start_time": "2024-04-05T01:07:20.700008",
     "status": "completed"
    },
    "tags": []
   },
   "outputs": [],
   "source": [
    "y = filtered_rating.groupby('Book-Title').count()['Book-Rating']>=50\n",
    "famous_books = y[y].index"
   ]
  },
  {
   "cell_type": "code",
   "execution_count": 17,
   "id": "1d503b13",
   "metadata": {
    "execution": {
     "iopub.execute_input": "2024-04-05T01:07:21.886949Z",
     "iopub.status.busy": "2024-04-05T01:07:21.886440Z",
     "iopub.status.idle": "2024-04-05T01:07:21.960276Z",
     "shell.execute_reply": "2024-04-05T01:07:21.959384Z"
    },
    "papermill": {
     "duration": 0.090326,
     "end_time": "2024-04-05T01:07:21.962868",
     "exception": false,
     "start_time": "2024-04-05T01:07:21.872542",
     "status": "completed"
    },
    "tags": []
   },
   "outputs": [],
   "source": [
    "final_ratings = filtered_rating[filtered_rating['Book-Title'].isin(famous_books)]"
   ]
  },
  {
   "cell_type": "markdown",
   "id": "b5bf08fa",
   "metadata": {
    "papermill": {
     "duration": 0.012144,
     "end_time": "2024-04-05T01:07:21.987469",
     "exception": false,
     "start_time": "2024-04-05T01:07:21.975325",
     "status": "completed"
    },
    "tags": []
   },
   "source": [
    "Creating Pivot Table of UsersID vs Books and values are Ratings."
   ]
  },
  {
   "cell_type": "code",
   "execution_count": 18,
   "id": "1636a354",
   "metadata": {
    "execution": {
     "iopub.execute_input": "2024-04-05T01:07:22.015547Z",
     "iopub.status.busy": "2024-04-05T01:07:22.014661Z",
     "iopub.status.idle": "2024-04-05T01:07:22.076084Z",
     "shell.execute_reply": "2024-04-05T01:07:22.075122Z"
    },
    "papermill": {
     "duration": 0.07942,
     "end_time": "2024-04-05T01:07:22.079396",
     "exception": false,
     "start_time": "2024-04-05T01:07:21.999976",
     "status": "completed"
    },
    "tags": []
   },
   "outputs": [],
   "source": [
    "pt = final_ratings.pivot_table(index='Book-Title',columns='User-ID',values='Book-Rating')"
   ]
  },
  {
   "cell_type": "code",
   "execution_count": 19,
   "id": "3c537666",
   "metadata": {
    "execution": {
     "iopub.execute_input": "2024-04-05T01:07:22.106502Z",
     "iopub.status.busy": "2024-04-05T01:07:22.106109Z",
     "iopub.status.idle": "2024-04-05T01:07:22.120475Z",
     "shell.execute_reply": "2024-04-05T01:07:22.119481Z"
    },
    "papermill": {
     "duration": 0.030841,
     "end_time": "2024-04-05T01:07:22.123075",
     "exception": false,
     "start_time": "2024-04-05T01:07:22.092234",
     "status": "completed"
    },
    "tags": []
   },
   "outputs": [],
   "source": [
    "pt.fillna(0,inplace=True)"
   ]
  },
  {
   "cell_type": "code",
   "execution_count": 20,
   "id": "eb9ab5d7",
   "metadata": {
    "execution": {
     "iopub.execute_input": "2024-04-05T01:07:22.149861Z",
     "iopub.status.busy": "2024-04-05T01:07:22.149485Z",
     "iopub.status.idle": "2024-04-05T01:07:22.201984Z",
     "shell.execute_reply": "2024-04-05T01:07:22.200768Z"
    },
    "papermill": {
     "duration": 0.068802,
     "end_time": "2024-04-05T01:07:22.204402",
     "exception": false,
     "start_time": "2024-04-05T01:07:22.135600",
     "status": "completed"
    },
    "tags": []
   },
   "outputs": [
    {
     "data": {
      "text/html": [
       "<div>\n",
       "<style scoped>\n",
       "    .dataframe tbody tr th:only-of-type {\n",
       "        vertical-align: middle;\n",
       "    }\n",
       "\n",
       "    .dataframe tbody tr th {\n",
       "        vertical-align: top;\n",
       "    }\n",
       "\n",
       "    .dataframe thead th {\n",
       "        text-align: right;\n",
       "    }\n",
       "</style>\n",
       "<table border=\"1\" class=\"dataframe\">\n",
       "  <thead>\n",
       "    <tr style=\"text-align: right;\">\n",
       "      <th>User-ID</th>\n",
       "      <th>254</th>\n",
       "      <th>1733</th>\n",
       "      <th>1903</th>\n",
       "      <th>2033</th>\n",
       "      <th>2110</th>\n",
       "      <th>2276</th>\n",
       "      <th>2766</th>\n",
       "      <th>2891</th>\n",
       "      <th>2977</th>\n",
       "      <th>3363</th>\n",
       "      <th>...</th>\n",
       "      <th>274301</th>\n",
       "      <th>274308</th>\n",
       "      <th>274808</th>\n",
       "      <th>275970</th>\n",
       "      <th>276680</th>\n",
       "      <th>277427</th>\n",
       "      <th>277478</th>\n",
       "      <th>277639</th>\n",
       "      <th>278188</th>\n",
       "      <th>278418</th>\n",
       "    </tr>\n",
       "    <tr>\n",
       "      <th>Book-Title</th>\n",
       "      <th></th>\n",
       "      <th></th>\n",
       "      <th></th>\n",
       "      <th></th>\n",
       "      <th></th>\n",
       "      <th></th>\n",
       "      <th></th>\n",
       "      <th></th>\n",
       "      <th></th>\n",
       "      <th></th>\n",
       "      <th></th>\n",
       "      <th></th>\n",
       "      <th></th>\n",
       "      <th></th>\n",
       "      <th></th>\n",
       "      <th></th>\n",
       "      <th></th>\n",
       "      <th></th>\n",
       "      <th></th>\n",
       "      <th></th>\n",
       "      <th></th>\n",
       "    </tr>\n",
       "  </thead>\n",
       "  <tbody>\n",
       "    <tr>\n",
       "      <th>1984</th>\n",
       "      <td>9.0</td>\n",
       "      <td>0.0</td>\n",
       "      <td>0.0</td>\n",
       "      <td>0.0</td>\n",
       "      <td>0.0</td>\n",
       "      <td>0.0</td>\n",
       "      <td>0.0</td>\n",
       "      <td>0.0</td>\n",
       "      <td>0.0</td>\n",
       "      <td>0.0</td>\n",
       "      <td>...</td>\n",
       "      <td>0.0</td>\n",
       "      <td>0.0</td>\n",
       "      <td>0.0</td>\n",
       "      <td>0.0</td>\n",
       "      <td>0.0</td>\n",
       "      <td>0.0</td>\n",
       "      <td>0.0</td>\n",
       "      <td>0.0</td>\n",
       "      <td>0.0</td>\n",
       "      <td>0.0</td>\n",
       "    </tr>\n",
       "    <tr>\n",
       "      <th>1st to Die: A Novel</th>\n",
       "      <td>0.0</td>\n",
       "      <td>0.0</td>\n",
       "      <td>0.0</td>\n",
       "      <td>0.0</td>\n",
       "      <td>0.0</td>\n",
       "      <td>0.0</td>\n",
       "      <td>0.0</td>\n",
       "      <td>0.0</td>\n",
       "      <td>0.0</td>\n",
       "      <td>0.0</td>\n",
       "      <td>...</td>\n",
       "      <td>0.0</td>\n",
       "      <td>0.0</td>\n",
       "      <td>0.0</td>\n",
       "      <td>0.0</td>\n",
       "      <td>0.0</td>\n",
       "      <td>0.0</td>\n",
       "      <td>0.0</td>\n",
       "      <td>0.0</td>\n",
       "      <td>0.0</td>\n",
       "      <td>0.0</td>\n",
       "    </tr>\n",
       "    <tr>\n",
       "      <th>2nd Chance</th>\n",
       "      <td>0.0</td>\n",
       "      <td>0.0</td>\n",
       "      <td>0.0</td>\n",
       "      <td>0.0</td>\n",
       "      <td>0.0</td>\n",
       "      <td>10.0</td>\n",
       "      <td>0.0</td>\n",
       "      <td>0.0</td>\n",
       "      <td>0.0</td>\n",
       "      <td>0.0</td>\n",
       "      <td>...</td>\n",
       "      <td>0.0</td>\n",
       "      <td>0.0</td>\n",
       "      <td>0.0</td>\n",
       "      <td>0.0</td>\n",
       "      <td>0.0</td>\n",
       "      <td>0.0</td>\n",
       "      <td>0.0</td>\n",
       "      <td>0.0</td>\n",
       "      <td>0.0</td>\n",
       "      <td>0.0</td>\n",
       "    </tr>\n",
       "    <tr>\n",
       "      <th>4 Blondes</th>\n",
       "      <td>0.0</td>\n",
       "      <td>0.0</td>\n",
       "      <td>0.0</td>\n",
       "      <td>0.0</td>\n",
       "      <td>0.0</td>\n",
       "      <td>0.0</td>\n",
       "      <td>0.0</td>\n",
       "      <td>0.0</td>\n",
       "      <td>0.0</td>\n",
       "      <td>0.0</td>\n",
       "      <td>...</td>\n",
       "      <td>0.0</td>\n",
       "      <td>0.0</td>\n",
       "      <td>0.0</td>\n",
       "      <td>0.0</td>\n",
       "      <td>0.0</td>\n",
       "      <td>0.0</td>\n",
       "      <td>0.0</td>\n",
       "      <td>0.0</td>\n",
       "      <td>0.0</td>\n",
       "      <td>0.0</td>\n",
       "    </tr>\n",
       "    <tr>\n",
       "      <th>84 Charing Cross Road</th>\n",
       "      <td>0.0</td>\n",
       "      <td>0.0</td>\n",
       "      <td>0.0</td>\n",
       "      <td>0.0</td>\n",
       "      <td>0.0</td>\n",
       "      <td>0.0</td>\n",
       "      <td>0.0</td>\n",
       "      <td>0.0</td>\n",
       "      <td>0.0</td>\n",
       "      <td>0.0</td>\n",
       "      <td>...</td>\n",
       "      <td>0.0</td>\n",
       "      <td>0.0</td>\n",
       "      <td>0.0</td>\n",
       "      <td>10.0</td>\n",
       "      <td>0.0</td>\n",
       "      <td>0.0</td>\n",
       "      <td>0.0</td>\n",
       "      <td>0.0</td>\n",
       "      <td>0.0</td>\n",
       "      <td>0.0</td>\n",
       "    </tr>\n",
       "    <tr>\n",
       "      <th>...</th>\n",
       "      <td>...</td>\n",
       "      <td>...</td>\n",
       "      <td>...</td>\n",
       "      <td>...</td>\n",
       "      <td>...</td>\n",
       "      <td>...</td>\n",
       "      <td>...</td>\n",
       "      <td>...</td>\n",
       "      <td>...</td>\n",
       "      <td>...</td>\n",
       "      <td>...</td>\n",
       "      <td>...</td>\n",
       "      <td>...</td>\n",
       "      <td>...</td>\n",
       "      <td>...</td>\n",
       "      <td>...</td>\n",
       "      <td>...</td>\n",
       "      <td>...</td>\n",
       "      <td>...</td>\n",
       "      <td>...</td>\n",
       "      <td>...</td>\n",
       "    </tr>\n",
       "    <tr>\n",
       "      <th>Year of Wonders</th>\n",
       "      <td>0.0</td>\n",
       "      <td>0.0</td>\n",
       "      <td>0.0</td>\n",
       "      <td>0.0</td>\n",
       "      <td>0.0</td>\n",
       "      <td>0.0</td>\n",
       "      <td>0.0</td>\n",
       "      <td>0.0</td>\n",
       "      <td>7.0</td>\n",
       "      <td>0.0</td>\n",
       "      <td>...</td>\n",
       "      <td>0.0</td>\n",
       "      <td>0.0</td>\n",
       "      <td>0.0</td>\n",
       "      <td>0.0</td>\n",
       "      <td>0.0</td>\n",
       "      <td>0.0</td>\n",
       "      <td>0.0</td>\n",
       "      <td>0.0</td>\n",
       "      <td>0.0</td>\n",
       "      <td>0.0</td>\n",
       "    </tr>\n",
       "    <tr>\n",
       "      <th>You Belong To Me</th>\n",
       "      <td>0.0</td>\n",
       "      <td>0.0</td>\n",
       "      <td>0.0</td>\n",
       "      <td>0.0</td>\n",
       "      <td>0.0</td>\n",
       "      <td>0.0</td>\n",
       "      <td>0.0</td>\n",
       "      <td>0.0</td>\n",
       "      <td>0.0</td>\n",
       "      <td>0.0</td>\n",
       "      <td>...</td>\n",
       "      <td>0.0</td>\n",
       "      <td>0.0</td>\n",
       "      <td>0.0</td>\n",
       "      <td>0.0</td>\n",
       "      <td>0.0</td>\n",
       "      <td>0.0</td>\n",
       "      <td>0.0</td>\n",
       "      <td>0.0</td>\n",
       "      <td>0.0</td>\n",
       "      <td>0.0</td>\n",
       "    </tr>\n",
       "    <tr>\n",
       "      <th>Zen and the Art of Motorcycle Maintenance: An Inquiry into Values</th>\n",
       "      <td>0.0</td>\n",
       "      <td>0.0</td>\n",
       "      <td>0.0</td>\n",
       "      <td>0.0</td>\n",
       "      <td>0.0</td>\n",
       "      <td>0.0</td>\n",
       "      <td>0.0</td>\n",
       "      <td>0.0</td>\n",
       "      <td>0.0</td>\n",
       "      <td>0.0</td>\n",
       "      <td>...</td>\n",
       "      <td>0.0</td>\n",
       "      <td>0.0</td>\n",
       "      <td>0.0</td>\n",
       "      <td>0.0</td>\n",
       "      <td>0.0</td>\n",
       "      <td>0.0</td>\n",
       "      <td>0.0</td>\n",
       "      <td>0.0</td>\n",
       "      <td>0.0</td>\n",
       "      <td>0.0</td>\n",
       "    </tr>\n",
       "    <tr>\n",
       "      <th>Zoya</th>\n",
       "      <td>0.0</td>\n",
       "      <td>0.0</td>\n",
       "      <td>0.0</td>\n",
       "      <td>0.0</td>\n",
       "      <td>0.0</td>\n",
       "      <td>0.0</td>\n",
       "      <td>0.0</td>\n",
       "      <td>0.0</td>\n",
       "      <td>0.0</td>\n",
       "      <td>0.0</td>\n",
       "      <td>...</td>\n",
       "      <td>0.0</td>\n",
       "      <td>0.0</td>\n",
       "      <td>0.0</td>\n",
       "      <td>0.0</td>\n",
       "      <td>0.0</td>\n",
       "      <td>0.0</td>\n",
       "      <td>0.0</td>\n",
       "      <td>0.0</td>\n",
       "      <td>0.0</td>\n",
       "      <td>0.0</td>\n",
       "    </tr>\n",
       "    <tr>\n",
       "      <th>\\O\\\" Is for Outlaw\"</th>\n",
       "      <td>0.0</td>\n",
       "      <td>0.0</td>\n",
       "      <td>0.0</td>\n",
       "      <td>0.0</td>\n",
       "      <td>0.0</td>\n",
       "      <td>0.0</td>\n",
       "      <td>0.0</td>\n",
       "      <td>0.0</td>\n",
       "      <td>0.0</td>\n",
       "      <td>0.0</td>\n",
       "      <td>...</td>\n",
       "      <td>8.0</td>\n",
       "      <td>0.0</td>\n",
       "      <td>0.0</td>\n",
       "      <td>0.0</td>\n",
       "      <td>0.0</td>\n",
       "      <td>0.0</td>\n",
       "      <td>0.0</td>\n",
       "      <td>0.0</td>\n",
       "      <td>0.0</td>\n",
       "      <td>0.0</td>\n",
       "    </tr>\n",
       "  </tbody>\n",
       "</table>\n",
       "<p>868 rows × 1110 columns</p>\n",
       "</div>"
      ],
      "text/plain": [
       "User-ID                                             254     1733    1903    \\\n",
       "Book-Title                                                                   \n",
       "1984                                                   9.0     0.0     0.0   \n",
       "1st to Die: A Novel                                    0.0     0.0     0.0   \n",
       "2nd Chance                                             0.0     0.0     0.0   \n",
       "4 Blondes                                              0.0     0.0     0.0   \n",
       "84 Charing Cross Road                                  0.0     0.0     0.0   \n",
       "...                                                    ...     ...     ...   \n",
       "Year of Wonders                                        0.0     0.0     0.0   \n",
       "You Belong To Me                                       0.0     0.0     0.0   \n",
       "Zen and the Art of Motorcycle Maintenance: An I...     0.0     0.0     0.0   \n",
       "Zoya                                                   0.0     0.0     0.0   \n",
       "\\O\\\" Is for Outlaw\"                                    0.0     0.0     0.0   \n",
       "\n",
       "User-ID                                             2033    2110    2276    \\\n",
       "Book-Title                                                                   \n",
       "1984                                                   0.0     0.0     0.0   \n",
       "1st to Die: A Novel                                    0.0     0.0     0.0   \n",
       "2nd Chance                                             0.0     0.0    10.0   \n",
       "4 Blondes                                              0.0     0.0     0.0   \n",
       "84 Charing Cross Road                                  0.0     0.0     0.0   \n",
       "...                                                    ...     ...     ...   \n",
       "Year of Wonders                                        0.0     0.0     0.0   \n",
       "You Belong To Me                                       0.0     0.0     0.0   \n",
       "Zen and the Art of Motorcycle Maintenance: An I...     0.0     0.0     0.0   \n",
       "Zoya                                                   0.0     0.0     0.0   \n",
       "\\O\\\" Is for Outlaw\"                                    0.0     0.0     0.0   \n",
       "\n",
       "User-ID                                             2766    2891    2977    \\\n",
       "Book-Title                                                                   \n",
       "1984                                                   0.0     0.0     0.0   \n",
       "1st to Die: A Novel                                    0.0     0.0     0.0   \n",
       "2nd Chance                                             0.0     0.0     0.0   \n",
       "4 Blondes                                              0.0     0.0     0.0   \n",
       "84 Charing Cross Road                                  0.0     0.0     0.0   \n",
       "...                                                    ...     ...     ...   \n",
       "Year of Wonders                                        0.0     0.0     7.0   \n",
       "You Belong To Me                                       0.0     0.0     0.0   \n",
       "Zen and the Art of Motorcycle Maintenance: An I...     0.0     0.0     0.0   \n",
       "Zoya                                                   0.0     0.0     0.0   \n",
       "\\O\\\" Is for Outlaw\"                                    0.0     0.0     0.0   \n",
       "\n",
       "User-ID                                             3363    ...  274301  \\\n",
       "Book-Title                                                  ...           \n",
       "1984                                                   0.0  ...     0.0   \n",
       "1st to Die: A Novel                                    0.0  ...     0.0   \n",
       "2nd Chance                                             0.0  ...     0.0   \n",
       "4 Blondes                                              0.0  ...     0.0   \n",
       "84 Charing Cross Road                                  0.0  ...     0.0   \n",
       "...                                                    ...  ...     ...   \n",
       "Year of Wonders                                        0.0  ...     0.0   \n",
       "You Belong To Me                                       0.0  ...     0.0   \n",
       "Zen and the Art of Motorcycle Maintenance: An I...     0.0  ...     0.0   \n",
       "Zoya                                                   0.0  ...     0.0   \n",
       "\\O\\\" Is for Outlaw\"                                    0.0  ...     8.0   \n",
       "\n",
       "User-ID                                             274308  274808  275970  \\\n",
       "Book-Title                                                                   \n",
       "1984                                                   0.0     0.0     0.0   \n",
       "1st to Die: A Novel                                    0.0     0.0     0.0   \n",
       "2nd Chance                                             0.0     0.0     0.0   \n",
       "4 Blondes                                              0.0     0.0     0.0   \n",
       "84 Charing Cross Road                                  0.0     0.0    10.0   \n",
       "...                                                    ...     ...     ...   \n",
       "Year of Wonders                                        0.0     0.0     0.0   \n",
       "You Belong To Me                                       0.0     0.0     0.0   \n",
       "Zen and the Art of Motorcycle Maintenance: An I...     0.0     0.0     0.0   \n",
       "Zoya                                                   0.0     0.0     0.0   \n",
       "\\O\\\" Is for Outlaw\"                                    0.0     0.0     0.0   \n",
       "\n",
       "User-ID                                             276680  277427  277478  \\\n",
       "Book-Title                                                                   \n",
       "1984                                                   0.0     0.0     0.0   \n",
       "1st to Die: A Novel                                    0.0     0.0     0.0   \n",
       "2nd Chance                                             0.0     0.0     0.0   \n",
       "4 Blondes                                              0.0     0.0     0.0   \n",
       "84 Charing Cross Road                                  0.0     0.0     0.0   \n",
       "...                                                    ...     ...     ...   \n",
       "Year of Wonders                                        0.0     0.0     0.0   \n",
       "You Belong To Me                                       0.0     0.0     0.0   \n",
       "Zen and the Art of Motorcycle Maintenance: An I...     0.0     0.0     0.0   \n",
       "Zoya                                                   0.0     0.0     0.0   \n",
       "\\O\\\" Is for Outlaw\"                                    0.0     0.0     0.0   \n",
       "\n",
       "User-ID                                             277639  278188  278418  \n",
       "Book-Title                                                                  \n",
       "1984                                                   0.0     0.0     0.0  \n",
       "1st to Die: A Novel                                    0.0     0.0     0.0  \n",
       "2nd Chance                                             0.0     0.0     0.0  \n",
       "4 Blondes                                              0.0     0.0     0.0  \n",
       "84 Charing Cross Road                                  0.0     0.0     0.0  \n",
       "...                                                    ...     ...     ...  \n",
       "Year of Wonders                                        0.0     0.0     0.0  \n",
       "You Belong To Me                                       0.0     0.0     0.0  \n",
       "Zen and the Art of Motorcycle Maintenance: An I...     0.0     0.0     0.0  \n",
       "Zoya                                                   0.0     0.0     0.0  \n",
       "\\O\\\" Is for Outlaw\"                                    0.0     0.0     0.0  \n",
       "\n",
       "[868 rows x 1110 columns]"
      ]
     },
     "execution_count": 20,
     "metadata": {},
     "output_type": "execute_result"
    }
   ],
   "source": [
    "pt"
   ]
  },
  {
   "cell_type": "markdown",
   "id": "31f8c0bd",
   "metadata": {
    "papermill": {
     "duration": 0.013155,
     "end_time": "2024-04-05T01:07:22.231284",
     "exception": false,
     "start_time": "2024-04-05T01:07:22.218129",
     "status": "completed"
    },
    "tags": []
   },
   "source": [
    "Using cosine_similarity to calculate the distance of the values of one book with another in a 2-D space (euclidean distance)"
   ]
  },
  {
   "cell_type": "code",
   "execution_count": 21,
   "id": "3b9113a5",
   "metadata": {
    "execution": {
     "iopub.execute_input": "2024-04-05T01:07:22.260525Z",
     "iopub.status.busy": "2024-04-05T01:07:22.259852Z",
     "iopub.status.idle": "2024-04-05T01:07:23.649482Z",
     "shell.execute_reply": "2024-04-05T01:07:23.648080Z"
    },
    "papermill": {
     "duration": 1.407216,
     "end_time": "2024-04-05T01:07:23.652204",
     "exception": false,
     "start_time": "2024-04-05T01:07:22.244988",
     "status": "completed"
    },
    "tags": []
   },
   "outputs": [],
   "source": [
    "from sklearn.metrics.pairwise import cosine_similarity"
   ]
  },
  {
   "cell_type": "code",
   "execution_count": 22,
   "id": "f36de1a5",
   "metadata": {
    "execution": {
     "iopub.execute_input": "2024-04-05T01:07:23.682356Z",
     "iopub.status.busy": "2024-04-05T01:07:23.681035Z",
     "iopub.status.idle": "2024-04-05T01:07:23.725247Z",
     "shell.execute_reply": "2024-04-05T01:07:23.723639Z"
    },
    "papermill": {
     "duration": 0.063599,
     "end_time": "2024-04-05T01:07:23.729437",
     "exception": false,
     "start_time": "2024-04-05T01:07:23.665838",
     "status": "completed"
    },
    "tags": []
   },
   "outputs": [],
   "source": [
    "similarity_scores = cosine_similarity(pt)"
   ]
  },
  {
   "cell_type": "code",
   "execution_count": 23,
   "id": "1c7456ad",
   "metadata": {
    "execution": {
     "iopub.execute_input": "2024-04-05T01:07:23.788967Z",
     "iopub.status.busy": "2024-04-05T01:07:23.788255Z",
     "iopub.status.idle": "2024-04-05T01:07:23.797724Z",
     "shell.execute_reply": "2024-04-05T01:07:23.796579Z"
    },
    "papermill": {
     "duration": 0.043976,
     "end_time": "2024-04-05T01:07:23.802044",
     "exception": false,
     "start_time": "2024-04-05T01:07:23.758068",
     "status": "completed"
    },
    "tags": []
   },
   "outputs": [
    {
     "data": {
      "text/plain": [
       "(868, 868)"
      ]
     },
     "execution_count": 23,
     "metadata": {},
     "output_type": "execute_result"
    }
   ],
   "source": [
    "similarity_scores.shape"
   ]
  },
  {
   "cell_type": "markdown",
   "id": "ea08d09d",
   "metadata": {
    "papermill": {
     "duration": 0.017971,
     "end_time": "2024-04-05T01:07:23.849552",
     "exception": false,
     "start_time": "2024-04-05T01:07:23.831581",
     "status": "completed"
    },
    "tags": []
   },
   "source": [
    "Got the Distance of Each Book with Respect to the other"
   ]
  },
  {
   "cell_type": "code",
   "execution_count": 24,
   "id": "d9a28f03",
   "metadata": {
    "execution": {
     "iopub.execute_input": "2024-04-05T01:07:23.878422Z",
     "iopub.status.busy": "2024-04-05T01:07:23.878047Z",
     "iopub.status.idle": "2024-04-05T01:07:23.885803Z",
     "shell.execute_reply": "2024-04-05T01:07:23.884627Z"
    },
    "papermill": {
     "duration": 0.024964,
     "end_time": "2024-04-05T01:07:23.888178",
     "exception": false,
     "start_time": "2024-04-05T01:07:23.863214",
     "status": "completed"
    },
    "tags": []
   },
   "outputs": [
    {
     "data": {
      "text/plain": [
       "array([[1.        , 0.07980265, 0.00974903, ..., 0.09658948, 0.06448266,\n",
       "        0.03549567],\n",
       "       [0.07980265, 1.        , 0.25233692, ..., 0.06000464, 0.14873547,\n",
       "        0.1435961 ],\n",
       "       [0.00974903, 0.25233692, 1.        , ..., 0.03769791, 0.04493654,\n",
       "        0.09205667],\n",
       "       ...,\n",
       "       [0.09658948, 0.06000464, 0.03769791, ..., 1.        , 0.06439035,\n",
       "        0.01670749],\n",
       "       [0.06448266, 0.14873547, 0.04493654, ..., 0.06439035, 1.        ,\n",
       "        0.09936127],\n",
       "       [0.03549567, 0.1435961 , 0.09205667, ..., 0.01670749, 0.09936127,\n",
       "        1.        ]])"
      ]
     },
     "execution_count": 24,
     "metadata": {},
     "output_type": "execute_result"
    }
   ],
   "source": [
    "similarity_scores"
   ]
  },
  {
   "cell_type": "markdown",
   "id": "8d7a15ad",
   "metadata": {
    "papermill": {
     "duration": 0.014302,
     "end_time": "2024-04-05T01:07:23.916362",
     "exception": false,
     "start_time": "2024-04-05T01:07:23.902060",
     "status": "completed"
    },
    "tags": []
   },
   "source": [
    "Fecting the Indexes of Books which are at the closest distance to the Book(input)"
   ]
  },
  {
   "cell_type": "code",
   "execution_count": 25,
   "id": "20c50c52",
   "metadata": {
    "execution": {
     "iopub.execute_input": "2024-04-05T01:07:23.945800Z",
     "iopub.status.busy": "2024-04-05T01:07:23.945363Z",
     "iopub.status.idle": "2024-04-05T01:07:23.954332Z",
     "shell.execute_reply": "2024-04-05T01:07:23.953141Z"
    },
    "papermill": {
     "duration": 0.026415,
     "end_time": "2024-04-05T01:07:23.956616",
     "exception": false,
     "start_time": "2024-04-05T01:07:23.930201",
     "status": "completed"
    },
    "tags": []
   },
   "outputs": [],
   "source": [
    "def recommend(book_name):\n",
    "    # index fetch\n",
    "    index = np.where(pt.index==book_name)[0][0]\n",
    "    similar_items = sorted(list(enumerate(similarity_scores[index])),key=lambda x:x[1],reverse=True)[1:11]\n",
    "    \n",
    "    data = []\n",
    "    for i in similar_items:\n",
    "        item = []\n",
    "        temp_df = books[books['Book-Title'] == pt.index[i[0]]]\n",
    "        item.extend(list(temp_df.drop_duplicates('Book-Title')['Book-Title'].values))\n",
    "        item.extend(list(temp_df.drop_duplicates('Book-Title')['Book-Author'].values))\n",
    "        item.extend(list(temp_df.drop_duplicates('Book-Title')['Image-URL-L'].values))\n",
    "        \n",
    "        data.append(item)\n",
    "    \n",
    "    return data"
   ]
  },
  {
   "cell_type": "code",
   "execution_count": 26,
   "id": "aa1d7d00",
   "metadata": {
    "execution": {
     "iopub.execute_input": "2024-04-05T01:07:23.986532Z",
     "iopub.status.busy": "2024-04-05T01:07:23.985727Z",
     "iopub.status.idle": "2024-04-05T01:07:24.512663Z",
     "shell.execute_reply": "2024-04-05T01:07:24.511522Z"
    },
    "papermill": {
     "duration": 0.544915,
     "end_time": "2024-04-05T01:07:24.515176",
     "exception": false,
     "start_time": "2024-04-05T01:07:23.970261",
     "status": "completed"
    },
    "tags": []
   },
   "outputs": [
    {
     "data": {
      "text/plain": [
       "[['1984',\n",
       "  'George Orwell',\n",
       "  'http://images.amazon.com/images/P/0451524934.01.LZZZZZZZ.jpg'],\n",
       " ['Midnight in the Garden of Good and Evil',\n",
       "  'John Berendt',\n",
       "  'http://images.amazon.com/images/P/0679751521.01.LZZZZZZZ.jpg'],\n",
       " ['The Color Purple',\n",
       "  'Alice Walker',\n",
       "  'http://images.amazon.com/images/P/0671617028.01.LZZZZZZZ.jpg'],\n",
       " ['The Catcher in the Rye',\n",
       "  'J.D. Salinger',\n",
       "  'http://images.amazon.com/images/P/0316769487.01.LZZZZZZZ.jpg'],\n",
       " ['To Kill a Mockingbird',\n",
       "  'Harper Lee',\n",
       "  'http://images.amazon.com/images/P/0446310786.01.LZZZZZZZ.jpg'],\n",
       " ['Animal Farm',\n",
       "  'George Orwell',\n",
       "  'http://images.amazon.com/images/P/0451526341.01.LZZZZZZZ.jpg'],\n",
       " ['Misery',\n",
       "  'Stephen King',\n",
       "  'http://images.amazon.com/images/P/0451153553.01.LZZZZZZZ.jpg'],\n",
       " ['Into Thin Air : A Personal Account of the Mt. Everest Disaster',\n",
       "  'JON KRAKAUER',\n",
       "  'http://images.amazon.com/images/P/0385494785.01.LZZZZZZZ.jpg'],\n",
       " ['The Tao of Pooh',\n",
       "  'Benjamin Hoff',\n",
       "  'http://images.amazon.com/images/P/0140067477.01.LZZZZZZZ.jpg'],\n",
       " ['The Hobbit : The Enchanting Prelude to The Lord of the Rings',\n",
       "  'J.R.R. TOLKIEN',\n",
       "  'http://images.amazon.com/images/P/0345339681.01.LZZZZZZZ.jpg']]"
      ]
     },
     "execution_count": 26,
     "metadata": {},
     "output_type": "execute_result"
    }
   ],
   "source": [
    "recommend('Lord of the Flies')"
   ]
  }
 ],
 "metadata": {
  "kaggle": {
   "accelerator": "none",
   "dataSources": [
    {
     "datasetId": 1004280,
     "sourceId": 7595263,
     "sourceType": "datasetVersion"
    }
   ],
   "dockerImageVersionId": 30673,
   "isGpuEnabled": false,
   "isInternetEnabled": true,
   "language": "python",
   "sourceType": "notebook"
  },
  "kernelspec": {
   "display_name": "Python 3",
   "language": "python",
   "name": "python3"
  },
  "language_info": {
   "codemirror_mode": {
    "name": "ipython",
    "version": 3
   },
   "file_extension": ".py",
   "mimetype": "text/x-python",
   "name": "python",
   "nbconvert_exporter": "python",
   "pygments_lexer": "ipython3",
   "version": "3.10.13"
  },
  "papermill": {
   "default_parameters": {},
   "duration": 17.70256,
   "end_time": "2024-04-05T01:07:25.351958",
   "environment_variables": {},
   "exception": null,
   "input_path": "__notebook__.ipynb",
   "output_path": "__notebook__.ipynb",
   "parameters": {},
   "start_time": "2024-04-05T01:07:07.649398",
   "version": "2.5.0"
  }
 },
 "nbformat": 4,
 "nbformat_minor": 5
}
